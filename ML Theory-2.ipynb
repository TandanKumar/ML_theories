{
 "cells": [
  {
   "cell_type": "markdown",
   "id": "71203db7",
   "metadata": {},
   "source": [
    "1. What is the concept of human learning? Please give two examples.\n",
    "\n",
    "Ans : Human Learning is a process of acquiring new skills, knowledge and many more.\n",
    "    Two Eamples are : learning any language, learning any skills"
   ]
  },
  {
   "cell_type": "markdown",
   "id": "f5f7c19a",
   "metadata": {},
   "source": [
    "2. What different forms of human learning are there? Are there any machine learning equivalents?\n",
    "        \n",
    "        Ans : There are three forms of learning:-\n",
    "                1. Learning through the association\n",
    "                2. Learning through consequences\n",
    "                3. Learning though observation\n",
    "\n",
    "                Yes they are all machine learning equivalants"
   ]
  },
  {
   "cell_type": "markdown",
   "id": "42ce3ff9",
   "metadata": {},
   "source": [
    "3. What is machine learning, and how does it work? What are the key responsibilities of machine\n",
    "learning?\n",
    "\n",
    "Ans : Machine leanring is a proces in whcih machine takes decision independently without human intervation.\n",
    "    Key responsibilities of machine learning is to undertstand the pattern and based on that it makes prediction "
   ]
  },
  {
   "cell_type": "markdown",
   "id": "5824197b",
   "metadata": {},
   "source": [
    "4. Define the terms &quot;penalty&quot; and &quot;reward&quot; in the context of reinforcement learning.\n",
    "\n",
    "Ans: In reinforcement machine learning, when it takes wrong decision it is awarded with penalty and if it takes the correct decision it is awarded with reward.\n"
   ]
  },
  {
   "cell_type": "markdown",
   "id": "ed3d6671",
   "metadata": {},
   "source": [
    "5. Explain the term &quot;learning as a search&quot;?\n",
    "    \n",
    "        Ans: Learning can be viewed as a search through the space of all sentences in a concept description language for a sentence that best describes the data."
   ]
  },
  {
   "cell_type": "markdown",
   "id": "cb4dd536",
   "metadata": {},
   "source": [
    "6. What are the various goals of machine learning? What is the relationship between these and\n",
    "human learning?\n",
    "\n",
    "\n",
    "\n",
    "        Ans : \n",
    "         Below are the goals of machine learning :\n",
    "                1. Find the pattern.\n",
    "                2. Based on pattern, analyse the data and give the insights.\n",
    "                3. Based on insights, we can make the decision.\n",
    "\n",
    "        Machine learning is performing the same thing as human was doing but we can say in a better way"
   ]
  },
  {
   "cell_type": "markdown",
   "id": "dd73838a",
   "metadata": {},
   "source": [
    "7. Illustrate the various elements of machine learning using a real-life illustration.\n",
    "\n",
    "    \n",
    "        Ans:\n",
    "        Representation: what the model looks like; how knowledge is represented\n",
    "        Evaluation: how good models are differentiated; how programs are evaluated \n",
    "        Optimization: the process for finding good models; how programs are generated\n"
   ]
  },
  {
   "cell_type": "markdown",
   "id": "6288a323",
   "metadata": {},
   "source": [
    "8. Provide an example of the abstraction method.\n",
    "\n",
    "Ans : Lets take an example of car. We know all the features but it is not entity.\n",
    "    So, honda, bmw are using the class\n"
   ]
  },
  {
   "cell_type": "markdown",
   "id": "93d22ee0",
   "metadata": {},
   "source": [
    "9. What is the concept of generalization? What function does it play in the machine learning\n",
    "process?\n",
    "\n",
    "Ans :\n",
    "    Generalization means that the model is well adapting to new or unseen data which are from the same distribution.\n",
    "    \n",
    "    By generalization, it predict outcome on the new data. "
   ]
  },
  {
   "cell_type": "markdown",
   "id": "21d1c936",
   "metadata": {},
   "source": [
    "10.What is classification, exactly? What are the main distinctions between classification and regression?\n",
    "\n",
    "Ans : Classification is method of separating the data in different classes.\n",
    "    \n",
    "    In regularization, we predict the data which is continuous while \n",
    "    in classification it separates the data based on the characteristics. "
   ]
  },
  {
   "cell_type": "markdown",
   "id": "26916669",
   "metadata": {},
   "source": [
    "11. What is regression, and how does it work? Give an example of a real-world problem that was\n",
    "solved using regression.\n",
    "\n",
    "Ans : \n",
    "      Regression is a method of predicting the data which is continiuous.\n",
    "      Finding the sales of any commodity.\n"
   ]
  },
  {
   "cell_type": "markdown",
   "id": "799b0a7a",
   "metadata": {},
   "source": [
    "12. Describe the clustering mechanism in detail.\n",
    "\n",
    "            \n",
    "    Ans: In clustering, we use to separate the data based on the characteristics. \n",
    "        Let's take an example of customer. We can separate the customer based on their gender or will purchase or not."
   ]
  },
  {
   "cell_type": "markdown",
   "id": "bb275a5c",
   "metadata": {},
   "source": [
    "\n",
    "13. Make brief observations on two of the following topics:\n",
    "\n",
    "i. Machine learning algorithms are used\n",
    "\n",
    "Ans :\n",
    "    Machine learning algorithm is used to predict the data based on the input data.\n",
    "    Let's take an eample:-\n",
    "        In banking, we can tell whether we can give to aperson or not based on the records of data.\n",
    "        \n",
    "ii. Studying under supervision\n",
    "\n",
    "Ans: It means that we are having the data with labels on which we study. Once, we get the new or unseeen data \n",
    "    with out lables, we can infer the result based on the previous result\n",
    "\n",
    "iii. Studying without supervision\n",
    "\n",
    "Ans: It means that we are analysing those type of data who does not have the labels.\n",
    "    We need to infer some insights from the data and based on that we classify the result. \n",
    "\n",
    "iv. Reinforcement learning is a form of learning based on positive reinforcement.\n",
    " \n",
    "    Ans: In reinforcement learning, it learns based on penalty and award.\n",
    "        If it has taken the wrong steps then panalty will be awarded and if it has taken the correct steps then it will awarded."
   ]
  },
  {
   "cell_type": "code",
   "execution_count": null,
   "id": "a6338101",
   "metadata": {},
   "outputs": [],
   "source": []
  }
 ],
 "metadata": {
  "kernelspec": {
   "display_name": "Python 3 (ipykernel)",
   "language": "python",
   "name": "python3"
  },
  "language_info": {
   "codemirror_mode": {
    "name": "ipython",
    "version": 3
   },
   "file_extension": ".py",
   "mimetype": "text/x-python",
   "name": "python",
   "nbconvert_exporter": "python",
   "pygments_lexer": "ipython3",
   "version": "3.7.0"
  }
 },
 "nbformat": 4,
 "nbformat_minor": 5
}
