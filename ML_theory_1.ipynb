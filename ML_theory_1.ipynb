{
 "cells": [
  {
   "cell_type": "markdown",
   "id": "c55d02f7",
   "metadata": {},
   "source": [
    "1. What does one mean by the term &quot;machine learning&quot;?"
   ]
  },
  {
   "cell_type": "markdown",
   "id": "e4d2ca01",
   "metadata": {},
   "source": [
    "Machine Learning is a situation in which we train the machine based of inputs and after that it takes the decision by itself without human intervaton."
   ]
  },
  {
   "cell_type": "markdown",
   "id": "604f4714",
   "metadata": {},
   "source": [
    "2.Can you think of 4 distinct types of issues where it shines?\n",
    "\n",
    "Ans :-\n",
    "1. In case of fraud detection for atm \n",
    "2. Predicting the sales \n",
    "3. It provides suggestion based on the history\n",
    "4. Spam detection in the mail"
   ]
  },
  {
   "cell_type": "markdown",
   "id": "a507e926",
   "metadata": {},
   "source": [
    "3.What is a labeled training set, and how does it work?\n",
    "\n",
    "Ans :\n",
    "    Training data which has the output is know as labeled training set. It helps machine to learn the patterns \n",
    "    or relationship to predict the output of new data"
   ]
  },
  {
   "cell_type": "markdown",
   "id": "f66721ad",
   "metadata": {},
   "source": [
    "4.What are the two most important tasks that are supervised?\n",
    "\n",
    "Ans: The two most important tasks are classification and regression."
   ]
  },
  {
   "cell_type": "markdown",
   "id": "14131748",
   "metadata": {},
   "source": [
    "5.Can you think of four examples of unsupervised tasks?\n",
    "\n",
    "Ans :- \n",
    "     Four examples of unsupervised task are clustering, visualization, dimensionality reduction, \n",
    "        and association rule learning."
   ]
  },
  {
   "cell_type": "markdown",
   "id": "d0daead9",
   "metadata": {},
   "source": [
    "6.State the machine learning model that would be best to make a robot walk through various\n",
    "unfamiliar terrains?\n",
    "\n",
    "Ans: Reinforcement Learning"
   ]
  },
  {
   "cell_type": "markdown",
   "id": "7738ee19",
   "metadata": {},
   "source": [
    "7.Which algorithm will you use to divide your customers into different groups?\n",
    "\n",
    "Ans - K Means clustering algorithm"
   ]
  },
  {
   "cell_type": "markdown",
   "id": "adf3fe92",
   "metadata": {},
   "source": [
    "8.Will you consider the problem of spam detection to be a supervised or unsupervised learning\n",
    "problem?\n",
    "\n",
    "ANS  - Unsupervised"
   ]
  },
  {
   "cell_type": "markdown",
   "id": "10d8f50b",
   "metadata": {},
   "source": [
    "9.What is the concept of an online learning system?\n",
    "\n",
    "Ans: In online learning system, data is taken sequentially and predictor is updated before taking new data."
   ]
  },
  {
   "cell_type": "markdown",
   "id": "8e6c89fc",
   "metadata": {},
   "source": [
    "10.What is out-of-core learning, and how does it differ from core learning?\n",
    "\n",
    "Ans : In out-of-core learning, data is not able to fit in the ram. So it is stored on hard disk to perform the task by \n",
    "    machine learnign algorithm.\n",
    "     \n",
    "    In core learning, we are able to load the data into the ram.\n",
    "    \n",
    "    "
   ]
  },
  {
   "cell_type": "markdown",
   "id": "f2d2e34c",
   "metadata": {},
   "source": [
    "11.What kind of learning algorithm makes predictions using a similarity measure?\n",
    "\n",
    "Ans: Instance based learning algorithm makes prediction using a similarity measure. \n",
    "    It learns the training example and based on that it generalizes new instance based on similarity mesure."
   ]
  },
  {
   "cell_type": "markdown",
   "id": "f86720e0",
   "metadata": {},
   "source": [
    "12.What&#39;s the difference between a model parameter and a hyperparameter in a learning\n",
    "algorithm?\n",
    "\n",
    "Ans : \n",
    "  Model parameter is a configuration variable that is internal to the model and whose valus can be estimated from the given data.\n",
    "  e.g:- 1. The weights in an artificial neural network.\n",
    "        2. The support vectors in a support vector machine.\n",
    "        3. The coefficients in a linear regression or logistic regression.\n",
    "\n",
    "  Hyper parameter are the parameter whose values control the learning process and determine the value of model paramters that a learning algorithm ends up learning.\n",
    "  \n",
    "  e.g:-\n",
    "       1. The learning rate for training a neural network.\n",
    "       2. The C and sigma hyperparameters for support vector machines.\n",
    "       3. The k in k-nearest neighbors."
   ]
  },
  {
   "cell_type": "markdown",
   "id": "7b4a6158",
   "metadata": {},
   "source": [
    "13. What are the criteria that model-based learning algorithms look for? What is the most popular\n",
    "method they use to achieve success? What method do they use to make predictions?\n",
    "\n",
    "Ans:\n",
    "   Model based learning algorithms search for the optimal value of parameters in a model that will give the best result \n",
    "   for new instances\n",
    "       Most popular method is cost function or similar to determine the parameter for which it is giving the minimum of the   \n",
    "   function.\n",
    "   \n",
    "   It does prediction by using the value of the new instance and parameter of the function.\n",
    "   \n",
    "   \n",
    "  "
   ]
  },
  {
   "cell_type": "markdown",
   "id": "fa050b2f",
   "metadata": {},
   "source": [
    "14.Can you name four of the most important Machine Learning challenges?\n",
    "Ans :\n",
    "\n",
    "    1. Underfitting\n",
    "    2. Overfitting\n",
    "    3. Less no of data\n",
    "    4. Non-representative data(Irrelevant features)"
   ]
  },
  {
   "cell_type": "markdown",
   "id": "c9a2410b",
   "metadata": {},
   "source": [
    "15.What happens if the model performs well on the training data but fails to generalize the results\n",
    "to new situations? Can you think of three different options?\n",
    "\n",
    "    Ans: This is because of overfitting.\n",
    "        Reason for this:-\n",
    "            1. Training data is small which is not enough to determine the underlying feature.\n",
    "            2. Model runs for too long time because of which it learns noise.\n",
    "            3. Model is too complex.\n",
    "            4. Model runs for a long time for the single set of data."
   ]
  },
  {
   "cell_type": "markdown",
   "id": "4e750ea7",
   "metadata": {},
   "source": [
    "16.What exactly is a test set, and why would you need one?\n",
    "\n",
    "Ans :\n",
    "     Test set are the data which is not known by the model during it creation.\n",
    "        We need this to check how our model will behave on unseen data."
   ]
  },
  {
   "cell_type": "markdown",
   "id": "ca5ccc8e",
   "metadata": {},
   "source": [
    "17.What is a validation set&#39;s purpose?\n",
    "\n",
    "Ans:\n",
    "     Validation set the subset of traing data which has not been seen by model during it's creation.\n",
    "     Once our model is ready we check on validation set that how our model is performing on the unseen data."
   ]
  },
  {
   "cell_type": "markdown",
   "id": "12faa1c8",
   "metadata": {},
   "source": [
    "18.What precisely is the train-dev split, when will you need it, how do you put it to use?\n",
    "\n",
    "    Ans:\n",
    "        splitting of the training data into train and test is known as train-dev split.\n",
    "        We will it for checking the accuracy of our model for unseen data.\n",
    "        \n",
    "        It help us to determine which model needs to select based on the performance."
   ]
  },
  {
   "cell_type": "markdown",
   "id": "bd89df65",
   "metadata": {},
   "source": [
    "19.What could go wrong if you use the test set to tune hyperparameters?\n",
    "    \n",
    "    Ans :\n",
    "        Data Leakage will happen."
   ]
  },
  {
   "cell_type": "code",
   "execution_count": null,
   "id": "5c13910d",
   "metadata": {},
   "outputs": [],
   "source": []
  }
 ],
 "metadata": {
  "kernelspec": {
   "display_name": "Python 3 (ipykernel)",
   "language": "python",
   "name": "python3"
  },
  "language_info": {
   "codemirror_mode": {
    "name": "ipython",
    "version": 3
   },
   "file_extension": ".py",
   "mimetype": "text/x-python",
   "name": "python",
   "nbconvert_exporter": "python",
   "pygments_lexer": "ipython3",
   "version": "3.7.16"
  }
 },
 "nbformat": 4,
 "nbformat_minor": 5
}
