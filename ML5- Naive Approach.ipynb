{
 "cells": [
  {
   "cell_type": "code",
   "execution_count": null,
   "id": "c9198991",
   "metadata": {},
   "outputs": [],
   "source": [
    "1. What is the Naive Approach in machine learning?\n",
    "\n",
    "ANs:- \n",
    "    \n",
    "    Naïve Bayes algorithm is a supervised learning algorithm, which is based on Bayes theorem and\n",
    "    used for solving classification problems."
   ]
  },
  {
   "cell_type": "code",
   "execution_count": null,
   "id": "f3206bc9",
   "metadata": {},
   "outputs": [],
   "source": [
    "2. Explain the assumptions of feature independence in the Naive Approach.\n",
    "\n",
    "Ans: - The naive Bayes classifier assumes that all features in the input data are independent of each other,\n"
   ]
  },
  {
   "cell_type": "code",
   "execution_count": null,
   "id": "5e4e959c",
   "metadata": {},
   "outputs": [],
   "source": [
    "3. How does the Naive Approach handle missing values in the data?\n",
    "\n",
    "Ans:- Naïve Bayes Imputation (NBI) is used to fill in missing values by replacing the attribute \n",
    "    information according to the probability estimate. \n"
   ]
  },
  {
   "cell_type": "markdown",
   "id": "73a5790c",
   "metadata": {},
   "source": [
    "4. What are the advantages and disadvantages of the Naive Approach?\n",
    "\n",
    "\n",
    "Ans:- \n",
    "         Advantages and Disadvantages of Naive Bayes\n",
    "            Advantages\n",
    "            This algorithm works quickly and can save a lot of time. \n",
    "            Naive Bayes is suitable for solving multi-class prediction problems. \n",
    "            If its assumption of the independence of features holds true, it can perform better than other models and      requires much less training data. \n",
    "            Naive Bayes is better suited for categorical input variables than numerical variables.\n",
    "            Disadvantages\n",
    "            Naive Bayes assumes that all predictors (or features) are independent, rarely happening in real life. This limits the applicability of this algorithm in real-world use cases.\n",
    "            This algorithm faces the ‘zero-frequency problem’ where it assigns zero probability to a categorical variable whose category in the test data set wasn’t available in the training dataset. It would be best if you used a smoothing technique to overcome this issue.\n",
    "            Its estimations can be wrong in some cases, so you shouldn’t take its probability outputs very seriously. "
   ]
  },
  {
   "cell_type": "code",
   "execution_count": null,
   "id": "33c159f0",
   "metadata": {},
   "outputs": [],
   "source": [
    "5. Can the Naive Approach be used for regression problems? If yes, how?\n",
    "\n",
    "\n",
    "Naive Bayes is a supervised classification algorithm that is used primarily for dealing with binary \n",
    "and multi-class classification problems, though with some modifications, it can also be used for solving regression problems\n",
    "\n",
    "\n",
    "naive bayes is used for strings and numbers(categorically) it can be used for classification so it can be either 1 or 0\n",
    "nothing in between like 0.5 (regression)"
   ]
  },
  {
   "cell_type": "code",
   "execution_count": null,
   "id": "e97985d6",
   "metadata": {},
   "outputs": [],
   "source": [
    "6. How do you handle categorical features in the Naive Approach?\n",
    "\n",
    "Ans: \n",
    "    \n",
    "    Different Approaches to Handle Categorical Data\n",
    "\n",
    "    · One Hot Encoding\n",
    "\n",
    "    · One Hot Encoding with multiple categories\n",
    "\n",
    "    · Ordinal Number Encoding\n",
    "\n",
    "    · Count or Frequency Encoding\n",
    "\n",
    "    · Target guided Ordinal Encoding\n",
    "\n",
    "    · Mean Ordinal Encoding\n",
    "\n",
    "    · Probability Ratio Encoding"
   ]
  },
  {
   "cell_type": "code",
   "execution_count": null,
   "id": "c707ac51",
   "metadata": {},
   "outputs": [],
   "source": [
    "7. What is Laplace smoothing and why is it used in the Naive Approach?\n",
    "\n",
    "Ans:- \n",
    "     Laplace smoothing is a smoothing technique that helps \n",
    "        tackle the problem of zero probability in the Naïve Bayes machine learning algorithm.\n"
   ]
  },
  {
   "cell_type": "code",
   "execution_count": null,
   "id": "7e5d2619",
   "metadata": {},
   "outputs": [],
   "source": [
    "8. How do you choose the appropriate probability threshold in the Naive Approach?\n",
    "\n",
    "Ans: \n",
    "  The most common method for classification threshold selection is plotting the ROC curve. ROC, which stands\n",
    "for receiver operating characteristic"
   ]
  },
  {
   "cell_type": "code",
   "execution_count": null,
   "id": "20871b19",
   "metadata": {},
   "outputs": [],
   "source": [
    "9. Give an example scenario where the Naive Approach can be applied.\n",
    "\n",
    "ANs: It is used by medical science for classification."
   ]
  },
  {
   "cell_type": "code",
   "execution_count": null,
   "id": "a048abe5",
   "metadata": {},
   "outputs": [],
   "source": [
    "10. What is the K-Nearest Neighbors (KNN) algorithm?\n",
    "\n",
    "The k-nearest neighbors algorithm, also known as KNN or k-NN, is a non-parametric, supervised learning classifier, which uses proximity to make classifications or \n",
    "predictions about the grouping of an individual data point."
   ]
  },
  {
   "cell_type": "code",
   "execution_count": null,
   "id": "a5e99948",
   "metadata": {},
   "outputs": [],
   "source": [
    "11. How does the KNN algorithm work?\n",
    "\n",
    "Ans:-   K-NN algorithm assumes the similarity between the new case/data and available cases and\n",
    "    put the new case into the category that is most similar to the available categories."
   ]
  },
  {
   "cell_type": "code",
   "execution_count": null,
   "id": "1c86c10b",
   "metadata": {},
   "outputs": [],
   "source": [
    "12. How do you choose the value of K in KNN?\n",
    "\n",
    "Ans:- \n",
    "The optimal K value usually found is the square root of N, where N is the total number of samples."
   ]
  },
  {
   "cell_type": "code",
   "execution_count": null,
   "id": "35b4874a",
   "metadata": {},
   "outputs": [],
   "source": [
    "13. What are the advantages and disadvantages of the KNN algorithm?\n",
    "\n",
    "\n",
    "        Advantage:-\n",
    "\n",
    "            Simple and Easy to Understand\n",
    "            Non-parametric\n",
    "            No Training Required \n",
    "            Can Handle Large Datasets\n",
    "            Accurate and Effective\n",
    "\n",
    "        Disadvantage:-\n",
    "            Sensitive to Outliers\n",
    "            Computationally Expensive\n",
    "            Requires Good Choice of K\n",
    "            Limited to Euclidean Distance\n",
    "            Imbalanced Data\n",
    "\n"
   ]
  },
  {
   "cell_type": "code",
   "execution_count": null,
   "id": "b691b1a9",
   "metadata": {},
   "outputs": [],
   "source": [
    "14. How does the choice of distance metric affect the performance of KNN?\n",
    "\n",
    "\n",
    "ANs:\n",
    "    \n",
    "    We can use different distance metric and check the accuracy. Based on accuracy, we can select the distance metric."
   ]
  },
  {
   "cell_type": "code",
   "execution_count": null,
   "id": "4e1283a0",
   "metadata": {},
   "outputs": [],
   "source": [
    "15. Can KNN handle imbalanced datasets? If yes, how?\n",
    "\n",
    "Ans:\n",
    "\n",
    "    \n",
    "        weighting neighbors by the inverse of their class size converts neighbor counts into the fraction of each class\n",
    "              that falls in your K nearest neighbors\n",
    "        weighting neighbors by their distances\n",
    "        using a radius-based rule for gathering neighbors instead of the K nearest ones (often implemented in KNN packages)\n"
   ]
  },
  {
   "cell_type": "code",
   "execution_count": null,
   "id": "124bcc66",
   "metadata": {},
   "outputs": [],
   "source": [
    "16. How do you handle categorical features in KNN?\n",
    "\n",
    "ANS:- \n",
    "    We can use the dummy method to convert the data.\n"
   ]
  },
  {
   "cell_type": "code",
   "execution_count": null,
   "id": "5787113f",
   "metadata": {},
   "outputs": [],
   "source": [
    "17. What are some techniques for improving the efficiency of KNN?\n",
    "\n",
    "Ans:- \n",
    "    1. Reduce the dimensionality\n",
    "    2. Use an index structure\n"
   ]
  },
  {
   "cell_type": "code",
   "execution_count": null,
   "id": "16d404b5",
   "metadata": {},
   "outputs": [],
   "source": [
    "18. Give an example scenario where KNN can be applied.\n",
    "\n",
    "        Ans:- It can be use in election for checking whethe it can vote or not.\n",
    "     "
   ]
  },
  {
   "cell_type": "code",
   "execution_count": null,
   "id": "5879245a",
   "metadata": {},
   "outputs": [],
   "source": [
    "19. What is clustering in machine learning?\n",
    "\n",
    "Ans:- Clustering is the act of organizing similar objects into groups within a machine learning algorithm. A\n"
   ]
  },
  {
   "cell_type": "code",
   "execution_count": null,
   "id": "ac8aff0e",
   "metadata": {},
   "outputs": [],
   "source": [
    "20. Explain the difference between hierarchical clustering and k-means clustering.\n",
    "\n",
    "ANs:- \n",
    "        Hierarchical clustering also known as hierarchical cluster analysis (HCA) is also a method of cluster analysis which seeks to build\n",
    "        a hierarchy of clusters without having fixed number of cluster.\n",
    "        \n",
    "       k-means is method of cluster analysis using a pre-specified no. of clusters. It requires advance knowledge of 'K'. "
   ]
  },
  {
   "cell_type": "code",
   "execution_count": null,
   "id": "d06a5d83",
   "metadata": {},
   "outputs": [],
   "source": [
    "21. How do you determine the optimal number of clusters in k-means clustering?\n",
    "\n",
    "Ans:- \n",
    "    \n",
    "      the elbow method, in which the sum of squares at each number of clusters is calculated and graphed, and \n",
    "        the user looks for a change of slope from steep to shallow (an elbow)\n",
    "        to determine the optimal number of clusters.\n"
   ]
  },
  {
   "cell_type": "code",
   "execution_count": null,
   "id": "3b19ffc5",
   "metadata": {},
   "outputs": [],
   "source": [
    "22. What are some common distance metrics used in clustering?\n",
    "\n",
    "ANs:-   Euclidean Distance, Manhattan Distance, Minkowski Distance, and Hamming Distance.\n"
   ]
  },
  {
   "cell_type": "code",
   "execution_count": null,
   "id": "92e4ad57",
   "metadata": {},
   "outputs": [],
   "source": [
    "23. How do you handle categorical features in clustering?\n",
    "\n",
    "Ans:-  label encoding\n",
    "    one hot encoding\n"
   ]
  },
  {
   "cell_type": "code",
   "execution_count": null,
   "id": "5d6e8a87",
   "metadata": {},
   "outputs": [],
   "source": [
    "24. What are the advantages and disadvantages of hierarchical clustering?\n",
    "\n",
    "Ans:- The advantage of Hierarchical Clustering is we don't have to pre-specify the clusters.\n"
   ]
  },
  {
   "cell_type": "code",
   "execution_count": null,
   "id": "2fcde2fd",
   "metadata": {},
   "outputs": [],
   "source": [
    "25. Explain the concept of silhouette score and its interpretation in clustering.\n",
    "\n",
    "Ans:- The silhouette value is a measure of how similar an object is to its own cluster (cohesion) \n",
    "     compared to other clusters (separation). The silhouette ranges from −1 to +1,\n",
    "        where a high value indicates that the object is well matched to its own cluster\n",
    "      and poorly matched to neighboring clusters."
   ]
  },
  {
   "cell_type": "code",
   "execution_count": null,
   "id": "d5cc6daf",
   "metadata": {},
   "outputs": [],
   "source": [
    "26. Give an example scenario where clustering can be applied.\n",
    "\n",
    "Ans:- Retail companies often use clustering to identify groups of households that are similar to each other.\n",
    "    \n",
    "    "
   ]
  },
  {
   "cell_type": "code",
   "execution_count": null,
   "id": "d4b08916",
   "metadata": {},
   "outputs": [],
   "source": [
    "27. What is anomaly detection in machine learning?\n",
    "\n",
    "Ans:- \n",
    "    Anomaly detection is a process of finding those rare items, data points, events, or \n",
    "    observations that make suspicions by being different from the rest data points or observations.\n",
    "    Anomaly detection is also known as outlier detection."
   ]
  },
  {
   "cell_type": "code",
   "execution_count": null,
   "id": "ed4586e2",
   "metadata": {},
   "outputs": [],
   "source": [
    "28. Explain the difference between supervised and unsupervised anomaly detection.\n",
    "\n",
    "Ans:-  The main difference between supervised and unsupervised anomaly detection is the approach involved, \n",
    "    where supervised approach makes use of predefined algorithms and AI training, \n",
    "    while unsupervised approach uses a general outlier-detection mechanism based on pattern matching.\n",
    "      "
   ]
  },
  {
   "cell_type": "code",
   "execution_count": null,
   "id": "97a25f40",
   "metadata": {},
   "outputs": [],
   "source": [
    "29. What are some common techniques used for anomaly detection?\n",
    "\n",
    "Ans:- \n",
    "    \n",
    "    1. The data points with values outside the permitted range of the distribution are marked as outliers,\n",
    "    2. This method requires pre-labeled data that are classified as normal or abnormal or even specific known \n",
    "          categories of abnormal behavior.It supports both normality and abnormality modeling.\n",
    "    \n"
   ]
  },
  {
   "cell_type": "code",
   "execution_count": null,
   "id": "29c396fe",
   "metadata": {},
   "outputs": [],
   "source": [
    "30. How does the One-Class SVM algorithm work for anomaly detection?\n",
    "\n",
    "Ans: \n",
    "    \n",
    "    One-class SVM, or unsupervised SVM, is an algorithm used for anomaly detection. \n",
    "    The algorithm tries to separate data from the origin in the transformed high-dimensional predictor space.\n",
    "    ocsvm finds the decision boundary based on the primal form of SVM with the Gaussian kernel approximation method."
   ]
  },
  {
   "cell_type": "code",
   "execution_count": null,
   "id": "065e106b",
   "metadata": {},
   "outputs": [],
   "source": [
    "31. How do you choose the appropriate threshold for anomaly detection?\n",
    "\n",
    "Ans:-  For Anomaly detection threshold, choose the number to use for the anomaly detection threshold.\n",
    "       A higher number creates a thicker band of \"normal\" values that is more tolerant of metric changes.\n",
    "        A lower number creates a thinner band that will go to ALARM state with smaller metric deviations."
   ]
  },
  {
   "cell_type": "code",
   "execution_count": null,
   "id": "2cf057be",
   "metadata": {},
   "outputs": [],
   "source": [
    "32. How do you handle imbalanced datasets in anomaly detection?\n",
    "\n",
    "Ans:-  \n",
    "    Choose Proper Evaluation Metric.\n",
    "    Resampling (Oversampling and Undersampling)\n",
    "    SMOTE.\n",
    "    BalancedBaggingClassifier."
   ]
  },
  {
   "cell_type": "code",
   "execution_count": null,
   "id": "b60b9bd9",
   "metadata": {},
   "outputs": [],
   "source": [
    "33. Give an example scenario where anomaly detection can be applied.\n",
    "\n",
    "Ans:- \n",
    "     a credit card company will use anomaly detection to track how customers typically use their credit cards\n",
    "       "
   ]
  },
  {
   "cell_type": "code",
   "execution_count": null,
   "id": "2159960c",
   "metadata": {},
   "outputs": [],
   "source": [
    "\n",
    "34. What is dimension reduction in machine learning?\n",
    "\n",
    "Ans:- \n",
    "      Dimensionality reduction is the task of reducing the number of features in a dataset.\n"
   ]
  },
  {
   "cell_type": "code",
   "execution_count": null,
   "id": "8f2e04cb",
   "metadata": {},
   "outputs": [],
   "source": [
    "35. Explain the difference between feature selection and feature extraction.\n",
    "\n",
    "Ans:- \n",
    "    Feature selection techniques are used when model explainability is a key requirement. \n",
    "    Feature extraction techniques can be used to improve the predictive performance of the models, \n",
    "    especially, in the case of algorithms that don't support regularization\n",
    "     "
   ]
  },
  {
   "cell_type": "code",
   "execution_count": null,
   "id": "ac43e6e6",
   "metadata": {},
   "outputs": [],
   "source": [
    "36. How does Principal Component Analysis (PCA) work for dimension reduction?\n",
    "\n",
    " Ans:- \n",
    "        PCA aims to find the directions of maximum variance in high-dimensional data and \n",
    "        projects it onto a new subspace with equal or fewer dimensions than the original one."
   ]
  },
  {
   "cell_type": "code",
   "execution_count": null,
   "id": "9b12a3a6",
   "metadata": {},
   "outputs": [],
   "source": [
    "37. How do you choose the number of components in PCA?\n",
    "\n",
    "Ans:-  Using Kaiser's Rule. According to Kaiser's rule, all the components with eigenvalues greater \n",
    "    than 1 should be kept for statistical inference. The reasoning behind Kaiser's rule\n",
    "    is that any principal component retained should explain the variance at least as much as an original \n",
    "    standardized variable."
   ]
  },
  {
   "cell_type": "code",
   "execution_count": null,
   "id": "c6b75c82",
   "metadata": {},
   "outputs": [],
   "source": [
    "38. What are some other dimension reduction techniques besides PCA?\n",
    "Ans:- \n",
    "     \n",
    "        Principal Component Analysis (PCA), Factor Analysis (FA), Linear Discriminant Analysis (LDA) and \n",
    "        Truncated Singular Value Decomposition (SVD) are examples of linear dimensionality reduction methods."
   ]
  },
  {
   "cell_type": "code",
   "execution_count": null,
   "id": "98c1a8dc",
   "metadata": {},
   "outputs": [],
   "source": [
    "39. Give an example scenario where dimension reduction can be applied.\n",
    "\n",
    "Ans: combine Dum Dums and Blow Pops to look at all lollipops together.\n",
    "     "
   ]
  },
  {
   "cell_type": "code",
   "execution_count": null,
   "id": "97041d2c",
   "metadata": {},
   "outputs": [],
   "source": [
    "40. What is feature selection in machine learning?\n",
    "\n",
    "Ans:- Feature Selection is the method of reducing the input variable to your model by using only relevant data\n",
    "    and getting rid of noise in data."
   ]
  },
  {
   "cell_type": "code",
   "execution_count": null,
   "id": "5c8896b2",
   "metadata": {},
   "outputs": [],
   "source": [
    "41. Explain the difference between filter, wrapper, and embedded methods of feature selection.\n",
    "\n",
    "Ans:- \n",
    "    \n",
    "        Filter methods perform the feature selection independently of construction of the classification model.\n",
    "        Wrapper methods iteratively select or eliminate a set of features using the prediction accuracy of the \n",
    "        classification model. \n",
    "        In embedded methods the feature selection is an integral part of the classification model.\n",
    "    "
   ]
  },
  {
   "cell_type": "code",
   "execution_count": null,
   "id": "9ad685dd",
   "metadata": {},
   "outputs": [],
   "source": [
    "42. How does correlation-based feature selection work?\n",
    "\n",
    "Ans:- \n",
    "  Features with high correlation are more linearly dependent and hence have almost the same effect on the dependent variable.\n",
    "   So, when two features have high correlation, we can drop one of the two features."
   ]
  },
  {
   "cell_type": "code",
   "execution_count": null,
   "id": "cead3255",
   "metadata": {},
   "outputs": [],
   "source": [
    "43. How do you handle multicollinearity in feature selection?\n",
    "\n",
    "Ans:- \n",
    "       It is a very important step during the feature selection process.\n",
    "        Removing multicollinearity can also reduce features which will eventually result in a less complex model and\n",
    "        also the overhead to store these features will be less.\n",
    "        Make sure to run the multicollinearity test before performing any regression analysis."
   ]
  },
  {
   "cell_type": "code",
   "execution_count": null,
   "id": "1842599c",
   "metadata": {},
   "outputs": [],
   "source": [
    "44. What are some common feature selection metrics?\n",
    "\n",
    "Ans:-   Filter Methods\n",
    "        Information Gain\n",
    "        Chi-square Test\n",
    "        Fisher’s Score\n",
    "        Correlation Coefficient\n",
    "        Variance Threshold\n",
    "        Mean Absolute Difference (MAD)\n",
    "        "
   ]
  },
  {
   "cell_type": "code",
   "execution_count": null,
   "id": "d5c30984",
   "metadata": {},
   "outputs": [],
   "source": [
    "45. Give an example scenario where feature selection can be applied.\n",
    "\n",
    "Sequence analysis"
   ]
  },
  {
   "cell_type": "code",
   "execution_count": null,
   "id": "c6e02f2d",
   "metadata": {},
   "outputs": [],
   "source": [
    "46. What is data drift in machine learning?\n",
    "\n",
    "For machine learning models, data drift is the change in model input data that leads to model performance degradation."
   ]
  },
  {
   "cell_type": "code",
   "execution_count": null,
   "id": "33ed2b82",
   "metadata": {},
   "outputs": [],
   "source": [
    "47. Why is data drift detection important?\n",
    "\n",
    "Data drift is one of the top reasons model accuracy degrades over time"
   ]
  },
  {
   "cell_type": "code",
   "execution_count": null,
   "id": "51ec67e2",
   "metadata": {},
   "outputs": [],
   "source": [
    "48. Explain the difference between concept drift and feature drift.\n",
    "\n",
    "Ans:- \n",
    "     Data drift refers to the changing distribution of the data to which the model is applied. \n",
    "        Concept drift refers to a changing underlying goal or objective for the model."
   ]
  },
  {
   "cell_type": "code",
   "execution_count": null,
   "id": "714b899e",
   "metadata": {},
   "outputs": [],
   "source": [
    "49. What are some techniques used for detecting data drift?\n",
    "\n",
    "Ans:-  \n",
    "    1) Kolmogorov-Smirnov (K-S) test:\n",
    "    2) Population Stability Index:\n",
    "    3) Model-Based Approach\n",
    "    4) Using specialized drift detection techniques such as Adaptive Windowing (ADWIN):"
   ]
  },
  {
   "cell_type": "code",
   "execution_count": null,
   "id": "24d3aca4",
   "metadata": {},
   "outputs": [],
   "source": [
    "50. How can you handle data drift in a machine learning model?\n",
    "\n",
    "Ans:- Some strategies for addressing drift include continuously monitoring and evaluating the performance of a model,\n",
    "    updating the model with new data, and using machine learning models that are more robust to drift.\n"
   ]
  },
  {
   "cell_type": "code",
   "execution_count": null,
   "id": "f0063b55",
   "metadata": {},
   "outputs": [],
   "source": [
    "51. What is data leakage in machine learning?\n",
    "\n",
    "Ans:- \n",
    "\"A scenario when ML model already has information of test data in training data, \n",
    "but this information would not be available at the time of prediction, called data leakage.\n",
    "It causes high performance while training set, but perform poorly in deployment or production."
   ]
  },
  {
   "cell_type": "code",
   "execution_count": null,
   "id": "97cc228b",
   "metadata": {},
   "outputs": [],
   "source": [
    "52. Why is data leakage a concern?\n",
    "Ans:- \n",
    "    The leaking features will get higher weights in the model than they should be\n",
    "    (e.g., higher level of the tree for a decision-tree-based model). We will not be able to learn the real interactions \n",
    "    of the leaking features with other features in the model"
   ]
  },
  {
   "cell_type": "code",
   "execution_count": null,
   "id": "32a3834f",
   "metadata": {},
   "outputs": [],
   "source": [
    "53. Explain the difference between target leakage and train-test contamination.\n",
    "\n",
    "Ans:- \n",
    "     This happens when we unknowingly or subtly pass information from our train dataset to our validation dataset.\n",
    "    \n",
    "    Target leakage occurs when a variable that is not a feature is used to predict the target. "
   ]
  },
  {
   "cell_type": "code",
   "execution_count": null,
   "id": "33888b56",
   "metadata": {},
   "outputs": [],
   "source": [
    "54. How can you identify and prevent data leakage in a machine learning pipeline?\n",
    " \n",
    "    By matching the stats of both data, we can identify it.\n",
    "    \n",
    "    To prevent such leakage, the dataset should be separated into training and \n",
    "    testing sets before performing any preprocessing steps."
   ]
  },
  {
   "cell_type": "code",
   "execution_count": null,
   "id": "34211e01",
   "metadata": {},
   "outputs": [],
   "source": [
    "55. What are some common sources of data leakage?\n",
    "\n",
    "Ans \n",
    "\n",
    "Performing some kind of pre-processing on the full dataset whose results influence what is seen during training is one \n",
    "of the most common causes of data leakage"
   ]
  },
  {
   "cell_type": "code",
   "execution_count": null,
   "id": "29214a09",
   "metadata": {},
   "outputs": [],
   "source": [
    "56. Give an example scenario where data leakage can occur.\n",
    "\n",
    "Ans :-\n",
    "    The most fundamental example of data leakage would be if the true label of a dataset was included as a \n",
    "    characteristic in the model\n",
    "    "
   ]
  },
  {
   "cell_type": "code",
   "execution_count": null,
   "id": "735016e3",
   "metadata": {},
   "outputs": [],
   "source": [
    "\n",
    "57. What is cross-validation in machine learning?\n",
    "\n",
    "Ans:- Cross-validation is a technique for evaluating ML models by training several ML models on subsets\n",
    "    of the available input data and evaluating them on the complementary subset of the data\n"
   ]
  },
  {
   "cell_type": "code",
   "execution_count": null,
   "id": "97ccf63b",
   "metadata": {},
   "outputs": [],
   "source": [
    "58. Why is cross-validation important?\n",
    "\n",
    "Ans: The purpose of cross–validation is to test the ability of a machine learning model to predict new data. "
   ]
  },
  {
   "cell_type": "code",
   "execution_count": null,
   "id": "95644177",
   "metadata": {},
   "outputs": [],
   "source": []
  },
  {
   "cell_type": "code",
   "execution_count": null,
   "id": "e4952dfd",
   "metadata": {},
   "outputs": [],
   "source": []
  },
  {
   "cell_type": "code",
   "execution_count": null,
   "id": "5f6b0faf",
   "metadata": {},
   "outputs": [],
   "source": []
  },
  {
   "cell_type": "code",
   "execution_count": null,
   "id": "1e5a02bc",
   "metadata": {},
   "outputs": [],
   "source": []
  },
  {
   "cell_type": "code",
   "execution_count": null,
   "id": "2b285331",
   "metadata": {},
   "outputs": [],
   "source": []
  },
  {
   "cell_type": "code",
   "execution_count": null,
   "id": "4463a539",
   "metadata": {},
   "outputs": [],
   "source": []
  },
  {
   "cell_type": "code",
   "execution_count": null,
   "id": "a5fe7fae",
   "metadata": {},
   "outputs": [],
   "source": []
  }
 ],
 "metadata": {
  "kernelspec": {
   "display_name": "Python 3 (ipykernel)",
   "language": "python",
   "name": "python3"
  },
  "language_info": {
   "codemirror_mode": {
    "name": "ipython",
    "version": 3
   },
   "file_extension": ".py",
   "mimetype": "text/x-python",
   "name": "python",
   "nbconvert_exporter": "python",
   "pygments_lexer": "ipython3",
   "version": "3.7.0"
  }
 },
 "nbformat": 4,
 "nbformat_minor": 5
}
